{
 "cells": [
  {
   "cell_type": "code",
   "execution_count": 2,
   "id": "fa5f7cf5",
   "metadata": {},
   "outputs": [],
   "source": [
    "from langchain_core.prompts import ChatPromptTemplate\n",
    "from langchain_core.runnables import RunnableLambda, RunnableSequence\n",
    "from langchain_openai import ChatOpenAI\n",
    "from langchain_core.output_parsers import StrOutputParser\n",
    "import os\n"
   ]
  },
  {
   "cell_type": "code",
   "execution_count": 3,
   "id": "e5f80274",
   "metadata": {},
   "outputs": [],
   "source": [
    "#Read OPENAI API\n",
    "with open('keys/api_openai.txt', 'r') as file:\n",
    "    api_openai = file.read()\n",
    "os.environ['OPENAI_API_KEY'] = api_openai\n",
    "\n",
    "llm = ChatOpenAI(model= \"gpt-4.1-2025-04-14\", temperature=0)"
   ]
  },
  {
   "cell_type": "code",
   "execution_count": 20,
   "id": "6da89d82",
   "metadata": {},
   "outputs": [],
   "source": [
    "# 1. Función que convierte el JSON en un texto descriptivo\n",
    "def procesar_metricas(data):\n",
    "    texto = []\n",
    "    for rep, fases in data.items():\n",
    "        texto.append(f\"Análisis para la repetición {rep}:\\n\")\n",
    "        for fase, angulos in fases.items():\n",
    "            texto.append(f\"  Fase {fase}:\\n\")\n",
    "            for articulacion, valores in angulos.items():\n",
    "                min_val = valores[\"min\"]\n",
    "                max_val = valores[\"max\"]\n",
    "                texto.append(f\"    - {articulacion}: min = {min_val}°, max = {max_val}°\\n\")\n",
    "    return {\"analisis_metricas\": \"\\n\".join(texto)}"
   ]
  },
  {
   "cell_type": "code",
   "execution_count": 27,
   "id": "33eaf386",
   "metadata": {},
   "outputs": [],
   "source": [
    "#read rules\n",
    "with open('keys/context.txt') as file:\n",
    "    rules = file.read()\n",
    "\n",
    "#prompt\n",
    "compare_metrics = ChatPromptTemplate.from_messages([\n",
    "    (\"system\", rules),\n",
    "    (\"user\", \"Da recomendaciones, sugerencias, comentarios sobre las metricas obtenidas del usuario:\\n{{analisis_metricas}}\")\n",
    "])"
   ]
  },
  {
   "cell_type": "code",
   "execution_count": 28,
   "id": "b2fba7a8",
   "metadata": {},
   "outputs": [],
   "source": [
    "# 5. Input de prueba\n",
    "input_data = {\n",
    "    \"rep1\": {\n",
    "        \"fase1\": {\n",
    "            \"angulo_rodilla\": {\"min\": 130, \"max\": 160},\n",
    "            \"angulo_cadera\": {\"min\": 140, \"max\": 170},\n",
    "            \"angulo_espalda\": {\"min\": 100, \"max\": 130}\n",
    "        },\n",
    "        \"fase2\": {\n",
    "            \"angulo_rodilla\": {\"min\": 90, \"max\": 130},\n",
    "            \"angulo_cadera\": {\"min\": 100, \"max\": 140},\n",
    "            \"angulo_espalda\": {\"min\": 95, \"max\": 135}\n",
    "        },\n",
    "        \"fase3\": {\n",
    "            \"angulo_rodilla\": {\"min\": 45, \"max\": 70},\n",
    "            \"angulo_cadera\": {\"min\": 80, \"max\": 100},\n",
    "            \"angulo_espalda\": {\"min\": 60, \"max\": 90}\n",
    "        },\n",
    "        \"fase4\": {\n",
    "            \"angulo_rodilla\": {\"min\": 125, \"max\": 160},\n",
    "            \"angulo_cadera\": {\"min\": 135, \"max\": 165},\n",
    "            \"angulo_espalda\": {\"min\": 110, \"max\": 145}\n",
    "        }\n",
    "    }\n",
    "}"
   ]
  },
  {
   "cell_type": "code",
   "execution_count": 29,
   "id": "2b6e580a",
   "metadata": {},
   "outputs": [],
   "source": [
    "# 4. Cadena LangChain\n",
    "chain = (\n",
    "    RunnableLambda(procesar_metricas) |\n",
    "    compare_metrics |\n",
    "    llm |\n",
    "    StrOutputParser()\n",
    ")"
   ]
  },
  {
   "cell_type": "code",
   "execution_count": 31,
   "id": "9737bf59",
   "metadata": {},
   "outputs": [
    {
     "ename": "AttributeError",
     "evalue": "'str' object has no attribute 'items'",
     "output_type": "error",
     "traceback": [
      "\u001b[31m---------------------------------------------------------------------------\u001b[39m",
      "\u001b[31mAttributeError\u001b[39m                            Traceback (most recent call last)",
      "\u001b[36mCell\u001b[39m\u001b[36m \u001b[39m\u001b[32mIn[31]\u001b[39m\u001b[32m, line 2\u001b[39m\n\u001b[32m      1\u001b[39m \u001b[38;5;66;03m# 6. Ejecutar la cadena\u001b[39;00m\n\u001b[32m----> \u001b[39m\u001b[32m2\u001b[39m respuesta = \u001b[43mchain\u001b[49m\u001b[43m.\u001b[49m\u001b[43minvoke\u001b[49m\u001b[43m(\u001b[49m\u001b[43mprocesar_metricas\u001b[49m\u001b[43m(\u001b[49m\u001b[43minput_data\u001b[49m\u001b[43m)\u001b[49m\u001b[43m)\u001b[49m\n\u001b[32m      3\u001b[39m \u001b[38;5;28mprint\u001b[39m(respuesta)\n",
      "\u001b[36mFile \u001b[39m\u001b[32m/Library/Frameworks/Python.framework/Versions/3.12/lib/python3.12/site-packages/langchain_core/runnables/base.py:3044\u001b[39m, in \u001b[36mRunnableSequence.invoke\u001b[39m\u001b[34m(self, input, config, **kwargs)\u001b[39m\n\u001b[32m   3042\u001b[39m \u001b[38;5;28;01mwith\u001b[39;00m set_config_context(config) \u001b[38;5;28;01mas\u001b[39;00m context:\n\u001b[32m   3043\u001b[39m     \u001b[38;5;28;01mif\u001b[39;00m i == \u001b[32m0\u001b[39m:\n\u001b[32m-> \u001b[39m\u001b[32m3044\u001b[39m         input_ = \u001b[43mcontext\u001b[49m\u001b[43m.\u001b[49m\u001b[43mrun\u001b[49m\u001b[43m(\u001b[49m\u001b[43mstep\u001b[49m\u001b[43m.\u001b[49m\u001b[43minvoke\u001b[49m\u001b[43m,\u001b[49m\u001b[43m \u001b[49m\u001b[43minput_\u001b[49m\u001b[43m,\u001b[49m\u001b[43m \u001b[49m\u001b[43mconfig\u001b[49m\u001b[43m,\u001b[49m\u001b[43m \u001b[49m\u001b[43m*\u001b[49m\u001b[43m*\u001b[49m\u001b[43mkwargs\u001b[49m\u001b[43m)\u001b[49m\n\u001b[32m   3045\u001b[39m     \u001b[38;5;28;01melse\u001b[39;00m:\n\u001b[32m   3046\u001b[39m         input_ = context.run(step.invoke, input_, config)\n",
      "\u001b[36mFile \u001b[39m\u001b[32m/Library/Frameworks/Python.framework/Versions/3.12/lib/python3.12/site-packages/langchain_core/runnables/base.py:4775\u001b[39m, in \u001b[36mRunnableLambda.invoke\u001b[39m\u001b[34m(self, input, config, **kwargs)\u001b[39m\n\u001b[32m   4761\u001b[39m \u001b[38;5;250m\u001b[39m\u001b[33;03m\"\"\"Invoke this Runnable synchronously.\u001b[39;00m\n\u001b[32m   4762\u001b[39m \n\u001b[32m   4763\u001b[39m \u001b[33;03mArgs:\u001b[39;00m\n\u001b[32m   (...)\u001b[39m\u001b[32m   4772\u001b[39m \u001b[33;03m    TypeError: If the Runnable is a coroutine function.\u001b[39;00m\n\u001b[32m   4773\u001b[39m \u001b[33;03m\"\"\"\u001b[39;00m\n\u001b[32m   4774\u001b[39m \u001b[38;5;28;01mif\u001b[39;00m \u001b[38;5;28mhasattr\u001b[39m(\u001b[38;5;28mself\u001b[39m, \u001b[33m\"\u001b[39m\u001b[33mfunc\u001b[39m\u001b[33m\"\u001b[39m):\n\u001b[32m-> \u001b[39m\u001b[32m4775\u001b[39m     \u001b[38;5;28;01mreturn\u001b[39;00m \u001b[38;5;28;43mself\u001b[39;49m\u001b[43m.\u001b[49m\u001b[43m_call_with_config\u001b[49m\u001b[43m(\u001b[49m\n\u001b[32m   4776\u001b[39m \u001b[43m        \u001b[49m\u001b[38;5;28;43mself\u001b[39;49m\u001b[43m.\u001b[49m\u001b[43m_invoke\u001b[49m\u001b[43m,\u001b[49m\n\u001b[32m   4777\u001b[39m \u001b[43m        \u001b[49m\u001b[38;5;28;43minput\u001b[39;49m\u001b[43m,\u001b[49m\n\u001b[32m   4778\u001b[39m \u001b[43m        \u001b[49m\u001b[43mensure_config\u001b[49m\u001b[43m(\u001b[49m\u001b[43mconfig\u001b[49m\u001b[43m)\u001b[49m\u001b[43m,\u001b[49m\n\u001b[32m   4779\u001b[39m \u001b[43m        \u001b[49m\u001b[43m*\u001b[49m\u001b[43m*\u001b[49m\u001b[43mkwargs\u001b[49m\u001b[43m,\u001b[49m\n\u001b[32m   4780\u001b[39m \u001b[43m    \u001b[49m\u001b[43m)\u001b[49m\n\u001b[32m   4781\u001b[39m msg = \u001b[33m\"\u001b[39m\u001b[33mCannot invoke a coroutine function synchronously.Use `ainvoke` instead.\u001b[39m\u001b[33m\"\u001b[39m\n\u001b[32m   4782\u001b[39m \u001b[38;5;28;01mraise\u001b[39;00m \u001b[38;5;167;01mTypeError\u001b[39;00m(msg)\n",
      "\u001b[36mFile \u001b[39m\u001b[32m/Library/Frameworks/Python.framework/Versions/3.12/lib/python3.12/site-packages/langchain_core/runnables/base.py:1939\u001b[39m, in \u001b[36mRunnable._call_with_config\u001b[39m\u001b[34m(self, func, input_, config, run_type, serialized, **kwargs)\u001b[39m\n\u001b[32m   1935\u001b[39m     child_config = patch_config(config, callbacks=run_manager.get_child())\n\u001b[32m   1936\u001b[39m     \u001b[38;5;28;01mwith\u001b[39;00m set_config_context(child_config) \u001b[38;5;28;01mas\u001b[39;00m context:\n\u001b[32m   1937\u001b[39m         output = cast(\n\u001b[32m   1938\u001b[39m             \u001b[33m\"\u001b[39m\u001b[33mOutput\u001b[39m\u001b[33m\"\u001b[39m,\n\u001b[32m-> \u001b[39m\u001b[32m1939\u001b[39m             \u001b[43mcontext\u001b[49m\u001b[43m.\u001b[49m\u001b[43mrun\u001b[49m\u001b[43m(\u001b[49m\n\u001b[32m   1940\u001b[39m \u001b[43m                \u001b[49m\u001b[43mcall_func_with_variable_args\u001b[49m\u001b[43m,\u001b[49m\u001b[43m  \u001b[49m\u001b[38;5;66;43;03m# type: ignore[arg-type]\u001b[39;49;00m\n\u001b[32m   1941\u001b[39m \u001b[43m                \u001b[49m\u001b[43mfunc\u001b[49m\u001b[43m,\u001b[49m\n\u001b[32m   1942\u001b[39m \u001b[43m                \u001b[49m\u001b[43minput_\u001b[49m\u001b[43m,\u001b[49m\n\u001b[32m   1943\u001b[39m \u001b[43m                \u001b[49m\u001b[43mconfig\u001b[49m\u001b[43m,\u001b[49m\n\u001b[32m   1944\u001b[39m \u001b[43m                \u001b[49m\u001b[43mrun_manager\u001b[49m\u001b[43m,\u001b[49m\n\u001b[32m   1945\u001b[39m \u001b[43m                \u001b[49m\u001b[43m*\u001b[49m\u001b[43m*\u001b[49m\u001b[43mkwargs\u001b[49m\u001b[43m,\u001b[49m\n\u001b[32m   1946\u001b[39m \u001b[43m            \u001b[49m\u001b[43m)\u001b[49m,\n\u001b[32m   1947\u001b[39m         )\n\u001b[32m   1948\u001b[39m \u001b[38;5;28;01mexcept\u001b[39;00m \u001b[38;5;167;01mBaseException\u001b[39;00m \u001b[38;5;28;01mas\u001b[39;00m e:\n\u001b[32m   1949\u001b[39m     run_manager.on_chain_error(e)\n",
      "\u001b[36mFile \u001b[39m\u001b[32m/Library/Frameworks/Python.framework/Versions/3.12/lib/python3.12/site-packages/langchain_core/runnables/config.py:428\u001b[39m, in \u001b[36mcall_func_with_variable_args\u001b[39m\u001b[34m(func, input, config, run_manager, **kwargs)\u001b[39m\n\u001b[32m    426\u001b[39m \u001b[38;5;28;01mif\u001b[39;00m run_manager \u001b[38;5;129;01mis\u001b[39;00m \u001b[38;5;129;01mnot\u001b[39;00m \u001b[38;5;28;01mNone\u001b[39;00m \u001b[38;5;129;01mand\u001b[39;00m accepts_run_manager(func):\n\u001b[32m    427\u001b[39m     kwargs[\u001b[33m\"\u001b[39m\u001b[33mrun_manager\u001b[39m\u001b[33m\"\u001b[39m] = run_manager\n\u001b[32m--> \u001b[39m\u001b[32m428\u001b[39m \u001b[38;5;28;01mreturn\u001b[39;00m \u001b[43mfunc\u001b[49m\u001b[43m(\u001b[49m\u001b[38;5;28;43minput\u001b[39;49m\u001b[43m,\u001b[49m\u001b[43m \u001b[49m\u001b[43m*\u001b[49m\u001b[43m*\u001b[49m\u001b[43mkwargs\u001b[49m\u001b[43m)\u001b[49m\n",
      "\u001b[36mFile \u001b[39m\u001b[32m/Library/Frameworks/Python.framework/Versions/3.12/lib/python3.12/site-packages/langchain_core/runnables/base.py:4633\u001b[39m, in \u001b[36mRunnableLambda._invoke\u001b[39m\u001b[34m(self, input_, run_manager, config, **kwargs)\u001b[39m\n\u001b[32m   4631\u001b[39m                 output = chunk\n\u001b[32m   4632\u001b[39m \u001b[38;5;28;01melse\u001b[39;00m:\n\u001b[32m-> \u001b[39m\u001b[32m4633\u001b[39m     output = \u001b[43mcall_func_with_variable_args\u001b[49m\u001b[43m(\u001b[49m\n\u001b[32m   4634\u001b[39m \u001b[43m        \u001b[49m\u001b[38;5;28;43mself\u001b[39;49m\u001b[43m.\u001b[49m\u001b[43mfunc\u001b[49m\u001b[43m,\u001b[49m\u001b[43m \u001b[49m\u001b[43minput_\u001b[49m\u001b[43m,\u001b[49m\u001b[43m \u001b[49m\u001b[43mconfig\u001b[49m\u001b[43m,\u001b[49m\u001b[43m \u001b[49m\u001b[43mrun_manager\u001b[49m\u001b[43m,\u001b[49m\u001b[43m \u001b[49m\u001b[43m*\u001b[49m\u001b[43m*\u001b[49m\u001b[43mkwargs\u001b[49m\n\u001b[32m   4635\u001b[39m \u001b[43m    \u001b[49m\u001b[43m)\u001b[49m\n\u001b[32m   4636\u001b[39m \u001b[38;5;66;03m# If the output is a Runnable, invoke it\u001b[39;00m\n\u001b[32m   4637\u001b[39m \u001b[38;5;28;01mif\u001b[39;00m \u001b[38;5;28misinstance\u001b[39m(output, Runnable):\n",
      "\u001b[36mFile \u001b[39m\u001b[32m/Library/Frameworks/Python.framework/Versions/3.12/lib/python3.12/site-packages/langchain_core/runnables/config.py:428\u001b[39m, in \u001b[36mcall_func_with_variable_args\u001b[39m\u001b[34m(func, input, config, run_manager, **kwargs)\u001b[39m\n\u001b[32m    426\u001b[39m \u001b[38;5;28;01mif\u001b[39;00m run_manager \u001b[38;5;129;01mis\u001b[39;00m \u001b[38;5;129;01mnot\u001b[39;00m \u001b[38;5;28;01mNone\u001b[39;00m \u001b[38;5;129;01mand\u001b[39;00m accepts_run_manager(func):\n\u001b[32m    427\u001b[39m     kwargs[\u001b[33m\"\u001b[39m\u001b[33mrun_manager\u001b[39m\u001b[33m\"\u001b[39m] = run_manager\n\u001b[32m--> \u001b[39m\u001b[32m428\u001b[39m \u001b[38;5;28;01mreturn\u001b[39;00m \u001b[43mfunc\u001b[49m\u001b[43m(\u001b[49m\u001b[38;5;28;43minput\u001b[39;49m\u001b[43m,\u001b[49m\u001b[43m \u001b[49m\u001b[43m*\u001b[49m\u001b[43m*\u001b[49m\u001b[43mkwargs\u001b[49m\u001b[43m)\u001b[49m\n",
      "\u001b[36mCell\u001b[39m\u001b[36m \u001b[39m\u001b[32mIn[20]\u001b[39m\u001b[32m, line 6\u001b[39m, in \u001b[36mprocesar_metricas\u001b[39m\u001b[34m(data)\u001b[39m\n\u001b[32m      4\u001b[39m \u001b[38;5;28;01mfor\u001b[39;00m rep, fases \u001b[38;5;129;01min\u001b[39;00m data.items():\n\u001b[32m      5\u001b[39m     texto.append(\u001b[33mf\u001b[39m\u001b[33m\"\u001b[39m\u001b[33mAnálisis para la repetición \u001b[39m\u001b[38;5;132;01m{\u001b[39;00mrep\u001b[38;5;132;01m}\u001b[39;00m\u001b[33m:\u001b[39m\u001b[38;5;130;01m\\n\u001b[39;00m\u001b[33m\"\u001b[39m)\n\u001b[32m----> \u001b[39m\u001b[32m6\u001b[39m     \u001b[38;5;28;01mfor\u001b[39;00m fase, angulos \u001b[38;5;129;01min\u001b[39;00m \u001b[43mfases\u001b[49m\u001b[43m.\u001b[49m\u001b[43mitems\u001b[49m():\n\u001b[32m      7\u001b[39m         texto.append(\u001b[33mf\u001b[39m\u001b[33m\"\u001b[39m\u001b[33m  Fase \u001b[39m\u001b[38;5;132;01m{\u001b[39;00mfase\u001b[38;5;132;01m}\u001b[39;00m\u001b[33m:\u001b[39m\u001b[38;5;130;01m\\n\u001b[39;00m\u001b[33m\"\u001b[39m)\n\u001b[32m      8\u001b[39m         \u001b[38;5;28;01mfor\u001b[39;00m articulacion, valores \u001b[38;5;129;01min\u001b[39;00m angulos.items():\n",
      "\u001b[31mAttributeError\u001b[39m: 'str' object has no attribute 'items'"
     ]
    }
   ],
   "source": [
    "# 6. Ejecutar la cadena\n",
    "respuesta = chain.invoke(procesar_metricas(input_data))\n",
    "print(respuesta)"
   ]
  },
  {
   "cell_type": "code",
   "execution_count": 25,
   "id": "b03b8a76",
   "metadata": {},
   "outputs": [],
   "source": [
    "val = procesar_metricas(input_data)"
   ]
  },
  {
   "cell_type": "code",
   "execution_count": 26,
   "id": "52e44d20",
   "metadata": {},
   "outputs": [
    {
     "data": {
      "text/plain": [
       "{'analisis_metricas': 'Análisis para la repetición rep1:\\n\\n  Fase fase1:\\n\\n    - angulo_rodilla: min = 130°, max = 160°\\n\\n    - angulo_cadera: min = 140°, max = 170°\\n\\n    - angulo_espalda: min = 100°, max = 130°\\n\\n  Fase fase2:\\n\\n    - angulo_rodilla: min = 90°, max = 130°\\n\\n    - angulo_cadera: min = 100°, max = 140°\\n\\n    - angulo_espalda: min = 95°, max = 135°\\n\\n  Fase fase3:\\n\\n    - angulo_rodilla: min = 45°, max = 70°\\n\\n    - angulo_cadera: min = 80°, max = 100°\\n\\n    - angulo_espalda: min = 60°, max = 90°\\n\\n  Fase fase4:\\n\\n    - angulo_rodilla: min = 125°, max = 160°\\n\\n    - angulo_cadera: min = 135°, max = 165°\\n\\n    - angulo_espalda: min = 110°, max = 145°\\n'}"
      ]
     },
     "execution_count": 26,
     "metadata": {},
     "output_type": "execute_result"
    }
   ],
   "source": [
    "val"
   ]
  },
  {
   "cell_type": "code",
   "execution_count": null,
   "id": "4b5c7789",
   "metadata": {},
   "outputs": [],
   "source": []
  },
  {
   "cell_type": "code",
   "execution_count": null,
   "id": "570323a5",
   "metadata": {},
   "outputs": [],
   "source": []
  },
  {
   "cell_type": "code",
   "execution_count": null,
   "id": "909c7ad4",
   "metadata": {},
   "outputs": [],
   "source": []
  },
  {
   "cell_type": "code",
   "execution_count": 32,
   "id": "323d02f4",
   "metadata": {},
   "outputs": [],
   "source": [
    "from typing import Dict"
   ]
  },
  {
   "cell_type": "code",
   "execution_count": 33,
   "id": "4a0b2af6",
   "metadata": {},
   "outputs": [],
   "source": [
    "def convert_squat_data_to_text(input_data: Dict) -> str:\n",
    "    \"\"\"\n",
    "    Convierte los datos JSON de ángulos de sentadilla a texto plano legible\n",
    "    \"\"\"\n",
    "    text_output = []\n",
    "    \n",
    "    for rep_key, rep_data in input_data.items():\n",
    "        text_output.append(f\"=== ANÁLISIS DE {rep_key.upper()} ===\\n\")\n",
    "        \n",
    "        for fase_key, fase_data in rep_data.items():\n",
    "            text_output.append(f\"🔸 {fase_key.upper()}:\")\n",
    "            \n",
    "            for angulo, valores in fase_data.items():\n",
    "                angulo_nombre = angulo.replace('_', ' ').title()\n",
    "                text_output.append(f\"  • {angulo_nombre}: {valores['min']}° - {valores['max']}°\")\n",
    "            \n",
    "            text_output.append(\"\")  # Línea vacía entre fases\n",
    "        \n",
    "        text_output.append(\"-\" * 50 + \"\\n\")\n",
    "    \n",
    "    return \"\\n\".join(text_output)"
   ]
  },
  {
   "cell_type": "code",
   "execution_count": null,
   "id": "a49c9b15",
   "metadata": {},
   "outputs": [],
   "source": [
    "def create_squat_analysis_chain():\n",
    "    \"\"\"\n",
    "    Crea la cadena de LangChain para análisis de sentadillas\n",
    "    \"\"\"\n",
    "    \n",
    "    # Conocimiento base sobre técnica de sentadillas\n",
    "    squat_knowledge = rules\n",
    "    \n",
    "    # Template del prompt\n",
    "    prompt_template = PromptTemplate(\n",
    "        input_variables=[\"squat_knowledge\", \"measurement_data\"],\n",
    "        template=\"\"\"\n",
    "        Eres un entrenador personal experto en biomecánica del ejercicio. Analiza los siguientes datos de ángulos corporales durante la ejecución de sentadillas y proporciona sugerencias específicas para mejorar la técnica.\n",
    "\n",
    "        {squat_knowledge}\n",
    "\n",
    "        DATOS DE MEDICIÓN:\n",
    "        {measurement_data}\n",
    "\n",
    "        INSTRUCCIONES:\n",
    "        1. Compara los ángulos medidos con los rangos ideales\n",
    "        2. Identifica desviaciones significativas (>10° fuera del rango ideal)\n",
    "        3. Proporciona sugerencias específicas y accionables\n",
    "        4. Prioriza las correcciones más importantes para la seguridad\n",
    "        5. Usa un lenguaje claro y motivador\n",
    "\n",
    "        FORMATO DE RESPUESTA:\n",
    "        📊 ANÁLISIS BIOMECÁNICO:\n",
    "        [Resumen general del rendimiento]\n",
    "\n",
    "        ⚠️ ÁREAS DE MEJORA:\n",
    "        [Lista de problemas identificados por fase]\n",
    "\n",
    "        💡 SUGERENCIAS ESPECÍFICAS:\n",
    "        [Recomendaciones concretas para cada problema]\n",
    "\n",
    "        🎯 EJERCICIOS RECOMENDADOS:\n",
    "        [Ejercicios auxiliares para mejorar la técnica]\n",
    "\n",
    "        Por favor, proporciona un análisis detallado y constructivo:\n",
    "        \"\"\"\n",
    "    )\n",
    "    \n",
    "    # Configurar el LLM (ajusta según tu configuración)\n",
    "    llm = OpenAI(\n",
    "        temperature=0.3,  # Baja temperatura para respuestas más consistentes\n",
    "        max_tokens=1000\n",
    "    )\n",
    "    \n",
    "    # Crear la cadena\n",
    "    analysis_chain = LLMChain(\n",
    "        llm=llm,\n",
    "        prompt=prompt_template,\n",
    "        output_parser=SquatAnalysisOutputParser(),\n",
    "        verbose=True\n",
    "    )\n",
    "    \n",
    "    return analysis_chain, squat_knowledge\n",
    "\n",
    "def analyze_squat_performance(input_data: Dict) -> Dict[str, Any]:\n",
    "    \"\"\"\n",
    "    Función principal que ejecuta todo el pipeline de análisis\n",
    "    \"\"\"\n",
    "    \n",
    "    # Paso 1: Convertir JSON a texto plano\n",
    "    text_data = convert_squat_data_to_text(input_data)\n",
    "    \n",
    "    # Paso 2: Crear la cadena de análisis\n",
    "    analysis_chain, squat_knowledge = create_squat_analysis_chain()\n",
    "    \n",
    "    # Paso 3: Ejecutar el análisis\n",
    "    result = analysis_chain.run({\n",
    "        \"squat_knowledge\": squat_knowledge,\n",
    "        \"measurement_data\": text_data\n",
    "    })\n",
    "    \n",
    "    return result"
   ]
  }
 ],
 "metadata": {
  "kernelspec": {
   "display_name": "Python 3",
   "language": "python",
   "name": "python3"
  },
  "language_info": {
   "codemirror_mode": {
    "name": "ipython",
    "version": 3
   },
   "file_extension": ".py",
   "mimetype": "text/x-python",
   "name": "python",
   "nbconvert_exporter": "python",
   "pygments_lexer": "ipython3",
   "version": "3.12.8"
  }
 },
 "nbformat": 4,
 "nbformat_minor": 5
}
